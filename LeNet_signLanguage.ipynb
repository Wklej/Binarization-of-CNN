{
  "nbformat": 4,
  "nbformat_minor": 0,
  "metadata": {
    "accelerator": "GPU",
    "colab": {
      "name": "LeNet-signLanguage.ipynb",
      "provenance": [],
      "collapsed_sections": []
    },
    "kernelspec": {
      "display_name": "Python 3",
      "name": "python3"
    },
    "language_info": {
      "name": "python"
    }
  },
  "cells": [
    {
      "cell_type": "code",
      "metadata": {
        "id": "H7fK8cvJXcDf"
      },
      "source": [
        "import tensorflow as tf\n",
        "import matplotlib.pyplot as plt\n",
        "from tensorflow.keras import datasets, layers, models, losses\n",
        "import pandas as pd\n",
        "import numpy as np\n",
        "import cv2 as cv\n",
        "\n",
        "import random"
      ],
      "execution_count": 1,
      "outputs": []
    },
    {
      "cell_type": "code",
      "metadata": {
        "id": "wGEQF8SWhg83",
        "colab": {
          "base_uri": "https://localhost:8080/"
        },
        "outputId": "1a881d0b-71a9-459e-be0a-b7eefdc96a65"
      },
      "source": [
        "from google.colab import drive\n",
        "\n",
        "drive.mount('/content/drive')"
      ],
      "execution_count": 2,
      "outputs": [
        {
          "output_type": "stream",
          "text": [
            "Mounted at /content/drive\n"
          ],
          "name": "stdout"
        }
      ]
    },
    {
      "cell_type": "markdown",
      "metadata": {
        "id": "1I58QfcOh9qV"
      },
      "source": [
        "Importing data"
      ]
    },
    {
      "cell_type": "code",
      "metadata": {
        "id": "7cuj75oeh8_D"
      },
      "source": [
        "train = pd.read_csv('drive/MyDrive/Sign_Language/sign_mnist_train.csv')\n",
        "test = pd.read_csv('drive/MyDrive/Sign_Language/sign_mnist_test.csv')"
      ],
      "execution_count": 3,
      "outputs": []
    },
    {
      "cell_type": "markdown",
      "metadata": {
        "id": "vocPoAXMQhRq"
      },
      "source": [
        "Converting to Arrays"
      ]
    },
    {
      "cell_type": "code",
      "metadata": {
        "id": "hZr0RcYJij4h"
      },
      "source": [
        "train_set = np.array(train, dtype = 'float32')\n",
        "test_set = np.array(test, dtype='float32')"
      ],
      "execution_count": 4,
      "outputs": []
    },
    {
      "cell_type": "code",
      "metadata": {
        "id": "D0PZKgs2jGuu"
      },
      "source": [
        "class_names = ['A', 'B', 'C', 'D', 'E', 'F', 'G', 'H', 'I', 'J', 'K', 'L', 'M', 'N', 'O', 'P', 'Q', 'R', 'S', 'T', 'U', 'V', 'W', 'X', 'Y' ]"
      ],
      "execution_count": 5,
      "outputs": []
    },
    {
      "cell_type": "markdown",
      "metadata": {
        "id": "5V327eKdQmHT"
      },
      "source": [
        "Thresholding function"
      ]
    },
    {
      "cell_type": "code",
      "metadata": {
        "id": "z97BUp3rsmdT"
      },
      "source": [
        "def thresholding_2(image):\n",
        "  threshold_ranges = [0,150,170,200,255]\n",
        "  images = [image.reshape((28,28))]\n",
        "  for i in range(len(threshold_ranges)-1):\n",
        "      ret,thresh = cv.threshold(image,threshold_ranges[i],threshold_ranges[i+1],cv.THRESH_BINARY)\n",
        "      images.append(thresh.reshape((28,28)))\n",
        "    \n",
        "  return images"
      ],
      "execution_count": 6,
      "outputs": []
    },
    {
      "cell_type": "markdown",
      "metadata": {
        "id": "0SxOZQ7pQ2Uw"
      },
      "source": [
        "Creating lists of all thresholded images"
      ]
    },
    {
      "cell_type": "code",
      "metadata": {
        "colab": {
          "base_uri": "https://localhost:8080/",
          "height": 88
        },
        "id": "SxdR57TDiktk",
        "outputId": "7a337f4c-8fc1-4e53-eee9-f99a88363e52"
      },
      "source": [
        "train_images = []\n",
        "test_images = []\n",
        "\n",
        "for a in range(train_set.shape[0]):\n",
        "    train_images.append(thresholding_2(train_set[a,1:]))\n",
        "\n",
        "for a in range(test_set.shape[0]):\n",
        "    test_images.append(thresholding_2(test_set[a,1:]))\n",
        "\n",
        "titles = ['Original','0-150', '151-170','171-200','201-255']\n",
        "\n",
        "for i in range(len(titles)):\n",
        "    plt.subplot(len(titles),len(titles),i+1),plt.imshow(train_images[123][i])\n",
        "    plt.title(titles[i])\n",
        "    plt.xticks([]),plt.yticks([])\n",
        "\n",
        "plt.show()"
      ],
      "execution_count": 7,
      "outputs": [
        {
          "output_type": "display_data",
          "data": {
            "image/png": "[encoded data removed]",
            "text/plain": [
              "<Figure size 432x288 with 5 Axes>"
            ]
          },
          "metadata": {
            "tags": []
          }
        }
      ]
    },
    {
      "cell_type": "markdown",
      "metadata": {
        "id": "jemnlEXMQ-Q0"
      },
      "source": [
        "Spliting list of images to sub lists, containing one threshold per list"
      ]
    },
    {
      "cell_type": "code",
      "metadata": {
        "id": "KQ1FUSrWeZ0W"
      },
      "source": [
        "X_train_sets, X_test_sets = [], []\n",
        "\n",
        "n = len(titles) - 1\n",
        "\n",
        "for x in range(n):\n",
        "  thresh = []\n",
        "  for i in range(train_set.shape[0]):\n",
        "    thresh.append(train_images[i][x+1])\n",
        "  X_train_sets.append(thresh)\n",
        "\n",
        "for x in range(n):\n",
        "    thresh = []\n",
        "    for i in range(test_set.shape[0]):\n",
        "      thresh.append(test_images[i][x+1])\n",
        "    X_test_sets.append(thresh)\n",
        "\n",
        "\n",
        "\n",
        "X_train_sets = np.asarray(X_train_sets)\n",
        "X_test_sets = np.asarray(X_test_sets)\n",
        "\n",
        "y_train = train_set[:, 0]\n",
        "y_test = test_set[:,0]"
      ],
      "execution_count": 8,
      "outputs": []
    },
    {
      "cell_type": "markdown",
      "metadata": {
        "id": "kewol5dvRUT-"
      },
      "source": [
        "Here we need to merge thresholds into one image. We merge it into X* channel image, each channel containing one threshold.\n",
        "*X - number of thresholds existing"
      ]
    },
    {
      "cell_type": "code",
      "metadata": {
        "id": "9Pxjt-W9g0y3"
      },
      "source": [
        "X_train, X_test = [], []\n",
        "\n",
        "for x in range(X_train_sets.shape[1]):\n",
        "  q = []\n",
        "  for i in range(28):\n",
        "    w = []\n",
        "    for j in range(28):\n",
        "      l = []\n",
        "      for v in range(len(titles) - 1):\n",
        "        l.append(X_train_sets[v][x][i][j])\n",
        "      w.append(l)\n",
        "    q.append(w)\n",
        "  X_train.append(q)\n",
        "\n",
        "for x in range(X_test_sets.shape[1]):\n",
        "  q = []\n",
        "  for i in range(28):\n",
        "    w = []\n",
        "    for j in range(28):\n",
        "      l = []\n",
        "      for v in range(len(titles) - 1):\n",
        "        l.append(X_test_sets[v][x][i][j])\n",
        "      w.append(l)\n",
        "    q.append(w)\n",
        "  X_test.append(q)"
      ],
      "execution_count": 10,
      "outputs": []
    },
    {
      "cell_type": "code",
      "metadata": {
        "id": "Tq0W5Gwc8vaL"
      },
      "source": [
        "X_test = np.asarray(X_test)\n",
        "X_train = np.asarray(X_train)"
      ],
      "execution_count": 11,
      "outputs": []
    },
    {
      "cell_type": "code",
      "metadata": {
        "colab": {
          "base_uri": "https://localhost:8080/"
        },
        "id": "4ztpAuZ1Zx-O",
        "outputId": "6121e67e-0e6b-4f42-916f-23a2e46f7faa"
      },
      "source": [
        "print(X_test.shape)\n",
        "print(X_train.shape)"
      ],
      "execution_count": 12,
      "outputs": [
        {
          "output_type": "stream",
          "text": [
            "(7172, 28, 28, 4)\n",
            "(27455, 28, 28, 4)\n"
          ],
          "name": "stdout"
        }
      ]
    },
    {
      "cell_type": "markdown",
      "metadata": {
        "id": "xy3WS1cJRoyy"
      },
      "source": [
        "Normalizing"
      ]
    },
    {
      "cell_type": "code",
      "metadata": {
        "id": "Bp-sHJEHE982"
      },
      "source": [
        "X_train = X_train.astype('float32')\n",
        "X_test = X_test.astype('float32')\n",
        "X_train = X_train / 255.0\n",
        "X_test = X_test / 255.0"
      ],
      "execution_count": 13,
      "outputs": []
    },
    {
      "cell_type": "markdown",
      "metadata": {
        "id": "Zt9N9yvXX1q8"
      },
      "source": [
        "LeNet-5 ish CNN Model"
      ]
    },
    {
      "cell_type": "code",
      "metadata": {
        "id": "WWoIehWsWlG8"
      },
      "source": [
        "model = models.Sequential()\n",
        "model.add(layers.Conv2D(filters=32, kernel_size=(5,5), padding='same', activation='relu', input_shape=(28, 28, (len(titles) - 1))))\n",
        "model.add(layers.MaxPool2D(strides=2))\n",
        "model.add(layers.Dropout(0.4))\n",
        "model.add(layers.Conv2D(filters=48, kernel_size=(5,5), padding='valid'))\n",
        "model.add(layers.MaxPool2D(strides=2))\n",
        "model.add(layers.Dropout(0.3))\n",
        "model.add(layers.Conv2D(128, (3, 3)))\n",
        "model.add(layers.MaxPool2D(strides=2))\n",
        "model.add(layers.Dropout(0.2))\n",
        "model.add(layers.Flatten())\n",
        "model.add(layers.Dense(512, activation='relu'))\n",
        "model.add(layers.Dropout(0.2))\n",
        "model.add(layers.Dense(128, activation='relu'))\n",
        "model.add(layers.Dense(25, activation='softmax'))"
      ],
      "execution_count": 14,
      "outputs": []
    },
    {
      "cell_type": "code",
      "metadata": {
        "id": "zlWumxBwjpZ9"
      },
      "source": [
        "model.compile(optimizer='sgd', loss=losses.sparse_categorical_crossentropy, metrics=['accuracy'])"
      ],
      "execution_count": 15,
      "outputs": []
    },
    {
      "cell_type": "code",
      "metadata": {
        "colab": {
          "base_uri": "https://localhost:8080/"
        },
        "id": "D_S-5CCDjq04",
        "outputId": "6a7bcd72-da49-493b-d259-dc61bbcabc4a"
      },
      "source": [
        "history = model.fit(X_train, y_train,\n",
        "                    epochs=50,\n",
        "                    validation_data=(X_test, y_test),\n",
        "                    batch_size=64)"
      ],
      "execution_count": 16,
      "outputs": [
        {
          "output_type": "stream",
          "text": [
            "Epoch 1/50\n",
            "429/429 [==============================] - 34s 5ms/step - loss: 3.1945 - accuracy: 0.0476 - val_loss: 3.1934 - val_accuracy: 0.0374\n",
            "Epoch 2/50\n",
            "429/429 [==============================] - 2s 5ms/step - loss: 3.0819 - accuracy: 0.0869 - val_loss: 2.9402 - val_accuracy: 0.1299\n",
            "Epoch 3/50\n",
            "429/429 [==============================] - 2s 5ms/step - loss: 2.5124 - accuracy: 0.2293 - val_loss: 2.1095 - val_accuracy: 0.3680\n",
            "Epoch 4/50\n",
            "429/429 [==============================] - 2s 5ms/step - loss: 1.8880 - accuracy: 0.3870 - val_loss: 1.6178 - val_accuracy: 0.4955\n",
            "Epoch 5/50\n",
            "429/429 [==============================] - 2s 5ms/step - loss: 1.5427 - accuracy: 0.4879 - val_loss: 1.3275 - val_accuracy: 0.5792\n",
            "Epoch 6/50\n",
            "429/429 [==============================] - 2s 5ms/step - loss: 1.2961 - accuracy: 0.5651 - val_loss: 1.1245 - val_accuracy: 0.6195\n",
            "Epoch 7/50\n",
            "429/429 [==============================] - 2s 5ms/step - loss: 1.1069 - accuracy: 0.6253 - val_loss: 0.9421 - val_accuracy: 0.6874\n",
            "Epoch 8/50\n",
            "429/429 [==============================] - 2s 5ms/step - loss: 0.9462 - accuracy: 0.6793 - val_loss: 0.8020 - val_accuracy: 0.7312\n",
            "Epoch 9/50\n",
            "429/429 [==============================] - 2s 5ms/step - loss: 0.8179 - accuracy: 0.7215 - val_loss: 0.6974 - val_accuracy: 0.7669\n",
            "Epoch 10/50\n",
            "429/429 [==============================] - 2s 5ms/step - loss: 0.7139 - accuracy: 0.7558 - val_loss: 0.6265 - val_accuracy: 0.7766\n",
            "Epoch 11/50\n",
            "429/429 [==============================] - 2s 5ms/step - loss: 0.6371 - accuracy: 0.7818 - val_loss: 0.5449 - val_accuracy: 0.8107\n",
            "Epoch 12/50\n",
            "429/429 [==============================] - 2s 5ms/step - loss: 0.5668 - accuracy: 0.8038 - val_loss: 0.5259 - val_accuracy: 0.8291\n",
            "Epoch 13/50\n",
            "429/429 [==============================] - 2s 5ms/step - loss: 0.5175 - accuracy: 0.8196 - val_loss: 0.4504 - val_accuracy: 0.8528\n",
            "Epoch 14/50\n",
            "429/429 [==============================] - 2s 5ms/step - loss: 0.4639 - accuracy: 0.8404 - val_loss: 0.4269 - val_accuracy: 0.8529\n",
            "Epoch 15/50\n",
            "429/429 [==============================] - 2s 5ms/step - loss: 0.4278 - accuracy: 0.8538 - val_loss: 0.4207 - val_accuracy: 0.8565\n",
            "Epoch 16/50\n",
            "429/429 [==============================] - 2s 5ms/step - loss: 0.3855 - accuracy: 0.8655 - val_loss: 0.3754 - val_accuracy: 0.8726\n",
            "Epoch 17/50\n",
            "429/429 [==============================] - 2s 5ms/step - loss: 0.3587 - accuracy: 0.8767 - val_loss: 0.3589 - val_accuracy: 0.8808\n",
            "Epoch 18/50\n",
            "429/429 [==============================] - 2s 5ms/step - loss: 0.3317 - accuracy: 0.8857 - val_loss: 0.3435 - val_accuracy: 0.8808\n",
            "Epoch 19/50\n",
            "429/429 [==============================] - 2s 5ms/step - loss: 0.3106 - accuracy: 0.8935 - val_loss: 0.3404 - val_accuracy: 0.8872\n",
            "Epoch 20/50\n",
            "429/429 [==============================] - 2s 5ms/step - loss: 0.2966 - accuracy: 0.8990 - val_loss: 0.3141 - val_accuracy: 0.8915\n",
            "Epoch 21/50\n",
            "429/429 [==============================] - 2s 5ms/step - loss: 0.2748 - accuracy: 0.9068 - val_loss: 0.3154 - val_accuracy: 0.8917\n",
            "Epoch 22/50\n",
            "429/429 [==============================] - 2s 5ms/step - loss: 0.2634 - accuracy: 0.9105 - val_loss: 0.2988 - val_accuracy: 0.8953\n",
            "Epoch 23/50\n",
            "429/429 [==============================] - 2s 5ms/step - loss: 0.2479 - accuracy: 0.9166 - val_loss: 0.2807 - val_accuracy: 0.9032\n",
            "Epoch 24/50\n",
            "429/429 [==============================] - 2s 5ms/step - loss: 0.2381 - accuracy: 0.9199 - val_loss: 0.2855 - val_accuracy: 0.9035\n",
            "Epoch 25/50\n",
            "429/429 [==============================] - 2s 5ms/step - loss: 0.2302 - accuracy: 0.9202 - val_loss: 0.2947 - val_accuracy: 0.9028\n",
            "Epoch 26/50\n",
            "429/429 [==============================] - 2s 5ms/step - loss: 0.2158 - accuracy: 0.9285 - val_loss: 0.2800 - val_accuracy: 0.9056\n",
            "Epoch 27/50\n",
            "429/429 [==============================] - 2s 5ms/step - loss: 0.2000 - accuracy: 0.9330 - val_loss: 0.2657 - val_accuracy: 0.9063\n",
            "Epoch 28/50\n",
            "429/429 [==============================] - 2s 5ms/step - loss: 0.1989 - accuracy: 0.9314 - val_loss: 0.2750 - val_accuracy: 0.9074\n",
            "Epoch 29/50\n",
            "429/429 [==============================] - 2s 5ms/step - loss: 0.1882 - accuracy: 0.9370 - val_loss: 0.2598 - val_accuracy: 0.9136\n",
            "Epoch 30/50\n",
            "429/429 [==============================] - 2s 5ms/step - loss: 0.1801 - accuracy: 0.9395 - val_loss: 0.2413 - val_accuracy: 0.9189\n",
            "Epoch 31/50\n",
            "429/429 [==============================] - 2s 5ms/step - loss: 0.1741 - accuracy: 0.9427 - val_loss: 0.2511 - val_accuracy: 0.9148\n",
            "Epoch 32/50\n",
            "429/429 [==============================] - 2s 5ms/step - loss: 0.1646 - accuracy: 0.9454 - val_loss: 0.2519 - val_accuracy: 0.9158\n",
            "Epoch 33/50\n",
            "429/429 [==============================] - 2s 5ms/step - loss: 0.1600 - accuracy: 0.9473 - val_loss: 0.2551 - val_accuracy: 0.9169\n",
            "Epoch 34/50\n",
            "429/429 [==============================] - 2s 5ms/step - loss: 0.1531 - accuracy: 0.9492 - val_loss: 0.2550 - val_accuracy: 0.9208\n",
            "Epoch 35/50\n",
            "429/429 [==============================] - 2s 5ms/step - loss: 0.1510 - accuracy: 0.9489 - val_loss: 0.2443 - val_accuracy: 0.9219\n",
            "Epoch 36/50\n",
            "429/429 [==============================] - 2s 5ms/step - loss: 0.1474 - accuracy: 0.9511 - val_loss: 0.2484 - val_accuracy: 0.9218\n",
            "Epoch 37/50\n",
            "429/429 [==============================] - 2s 5ms/step - loss: 0.1426 - accuracy: 0.9524 - val_loss: 0.2562 - val_accuracy: 0.9176\n",
            "Epoch 38/50\n",
            "429/429 [==============================] - 2s 5ms/step - loss: 0.1388 - accuracy: 0.9543 - val_loss: 0.2450 - val_accuracy: 0.9299\n",
            "Epoch 39/50\n",
            "429/429 [==============================] - 2s 5ms/step - loss: 0.1329 - accuracy: 0.9552 - val_loss: 0.2586 - val_accuracy: 0.9193\n",
            "Epoch 40/50\n",
            "429/429 [==============================] - 2s 5ms/step - loss: 0.1268 - accuracy: 0.9591 - val_loss: 0.2443 - val_accuracy: 0.9247\n",
            "Epoch 41/50\n",
            "429/429 [==============================] - 2s 5ms/step - loss: 0.1259 - accuracy: 0.9572 - val_loss: 0.2333 - val_accuracy: 0.9278\n",
            "Epoch 42/50\n",
            "429/429 [==============================] - 2s 5ms/step - loss: 0.1216 - accuracy: 0.9595 - val_loss: 0.2391 - val_accuracy: 0.9272\n",
            "Epoch 43/50\n",
            "429/429 [==============================] - 2s 5ms/step - loss: 0.1195 - accuracy: 0.9599 - val_loss: 0.2370 - val_accuracy: 0.9271\n",
            "Epoch 44/50\n",
            "429/429 [==============================] - 2s 5ms/step - loss: 0.1165 - accuracy: 0.9614 - val_loss: 0.2310 - val_accuracy: 0.9308\n",
            "Epoch 45/50\n",
            "429/429 [==============================] - 2s 5ms/step - loss: 0.1093 - accuracy: 0.9632 - val_loss: 0.2286 - val_accuracy: 0.9334\n",
            "Epoch 46/50\n",
            "429/429 [==============================] - 2s 5ms/step - loss: 0.1119 - accuracy: 0.9626 - val_loss: 0.2396 - val_accuracy: 0.9288\n",
            "Epoch 47/50\n",
            "429/429 [==============================] - 2s 5ms/step - loss: 0.1106 - accuracy: 0.9632 - val_loss: 0.2366 - val_accuracy: 0.9340\n",
            "Epoch 48/50\n",
            "429/429 [==============================] - 2s 5ms/step - loss: 0.1062 - accuracy: 0.9649 - val_loss: 0.2615 - val_accuracy: 0.9233\n",
            "Epoch 49/50\n",
            "429/429 [==============================] - 2s 5ms/step - loss: 0.1049 - accuracy: 0.9658 - val_loss: 0.2178 - val_accuracy: 0.9352\n",
            "Epoch 50/50\n",
            "429/429 [==============================] - 2s 5ms/step - loss: 0.1088 - accuracy: 0.9644 - val_loss: 0.2030 - val_accuracy: 0.9378\n"
          ],
          "name": "stdout"
        }
      ]
    },
    {
      "cell_type": "markdown",
      "metadata": {
        "id": "iOK-ZI3oSY_D"
      },
      "source": [
        "Plotting loss and accuracy"
      ]
    },
    {
      "cell_type": "code",
      "metadata": {
        "colab": {
          "base_uri": "https://localhost:8080/",
          "height": 896
        },
        "id": "S3Z9tAx2mI2s",
        "outputId": "4969343b-4aa3-44a2-d90c-9fecc3a1f904"
      },
      "source": [
        "fig, axs = plt.subplots(2, 1, figsize=(15,15))\n",
        "\n",
        "axs[0].plot(history.history['loss'])\n",
        "axs[0].plot(history.history['val_loss'])\n",
        "axs[0].title.set_text('Training Loss vs Validation Loss')\n",
        "axs[0].legend(['Train', 'Val'])\n",
        "\n",
        "axs[1].plot(history.history['accuracy'])\n",
        "axs[1].plot(history.history['val_accuracy'])\n",
        "axs[1].title.set_text('Training Accuracy vs Validation Accuracy')\n",
        "axs[1].legend(['Train', 'Val'])\n"
      ],
      "execution_count": 17,
      "outputs": [
        {
          "output_type": "execute_result",
          "data": {
            "text/plain": [
              "<matplotlib.legend.Legend at 0x7f1490abb210>"
            ]
          },
          "metadata": {
            "tags": []
          },
          "execution_count": 17
        },
        {
          "output_type": "display_data",
          "data": {
            "image/png": "[encoded data removed]",
            "text/plain": [
              "<Figure size 1080x1080 with 2 Axes>"
            ]
          },
          "metadata": {
            "tags": [],
            "needs_background": "light"
          }
        }
      ]
    }
  ]
}